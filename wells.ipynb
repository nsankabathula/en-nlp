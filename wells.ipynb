{
 "cells": [
  {
   "cell_type": "code",
   "execution_count": null,
   "metadata": {},
   "outputs": [],
   "source": [
    "import logging;\n",
    "logging.basicConfig(format='%(module)s||%(funcName)s||[%(process)d:%(thread)d||%(asctime)s||%(levelname)s||%(message)s',\\\n",
    "                    level=logging.DEBUG, datefmt=logging.Formatter.default_time_format);\n"
   ]
  },
  {
   "cell_type": "code",
   "execution_count": null,
   "metadata": {},
   "outputs": [],
   "source": [
    "from rcare.nlp.customize_nlp import rcare\n",
    "r_nlp = rcare()\n",
    "\n",
    "\n",
    "from rcare.training_utils import build_training_data\n",
    "\n"
   ]
  },
  {
   "cell_type": "code",
   "execution_count": null,
   "metadata": {},
   "outputs": [],
   "source": [
    "DATA_PATH = 'data/lexpredict-contraxsuite-samples/credit_card_agreements/wells/' \n",
    "build_training_data(DATA_PATH)"
   ]
  },
  {
   "cell_type": "code",
   "execution_count": null,
   "metadata": {},
   "outputs": [],
   "source": []
  }
 ],
 "metadata": {
  "kernelspec": {
   "display_name": "Python 3",
   "language": "python",
   "name": "python3"
  },
  "language_info": {
   "codemirror_mode": {
    "name": "ipython",
    "version": 3
   },
   "file_extension": ".py",
   "mimetype": "text/x-python",
   "name": "python",
   "nbconvert_exporter": "python",
   "pygments_lexer": "ipython3",
   "version": "3.6.5"
  }
 },
 "nbformat": 4,
 "nbformat_minor": 2
}
